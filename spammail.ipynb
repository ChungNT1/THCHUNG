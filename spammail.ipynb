{
 "cells": [
  {
   "cell_type": "code",
   "execution_count": 1,
   "id": "227998b6",
   "metadata": {
    "_cell_guid": "b1076dfc-b9ad-4769-8c92-a6c4dae69d19",
    "_uuid": "8f2839f25d086af736a60e9eeb907d3b93b6e0e5",
    "execution": {
     "iopub.execute_input": "2022-04-08T14:38:03.875844Z",
     "iopub.status.busy": "2022-04-08T14:38:03.874071Z",
     "iopub.status.idle": "2022-04-08T14:38:03.893450Z",
     "shell.execute_reply": "2022-04-08T14:38:03.894652Z",
     "shell.execute_reply.started": "2022-04-08T14:37:08.471410Z"
    },
    "papermill": {
     "duration": 0.039012,
     "end_time": "2022-04-08T14:38:03.895184",
     "exception": false,
     "start_time": "2022-04-08T14:38:03.856172",
     "status": "completed"
    },
    "tags": []
   },
   "outputs": [
    {
     "name": "stdout",
     "output_type": "stream",
     "text": [
      "/kaggle/input/spammail/spam_email.txt\n"
     ]
    }
   ],
   "source": [
    "# This Python 3 environment comes with many helpful analytics libraries installed\n",
    "# It is defined by the kaggle/python Docker image: https://github.com/kaggle/docker-python\n",
    "# For example, here's several helpful packages to load\n",
    "\n",
    "import numpy as np # linear algebra\n",
    "import pandas as pd # data processing, CSV file I/O (e.g. pd.read_csv)\n",
    "\n",
    "# Input data files are available in the read-only \"../input/\" directory\n",
    "# For example, running this (by clicking run or pressing Shift+Enter) will list all files under the input directory\n",
    "\n",
    "import os\n",
    "for dirname, _, filenames in os.walk('/kaggle/input'):\n",
    "    for filename in filenames:\n",
    "        print(os.path.join(dirname, filename))\n",
    "\n",
    "# You can write up to 20GB to the current directory (/kaggle/working/) that gets preserved as output when you create a version using \"Save & Run All\" \n",
    "# You can also write temporary files to /kaggle/temp/, but they won't be saved outside of the current session"
   ]
  },
  {
   "cell_type": "code",
   "execution_count": 2,
   "id": "dcda2be0",
   "metadata": {
    "execution": {
     "iopub.execute_input": "2022-04-08T14:38:03.932692Z",
     "iopub.status.busy": "2022-04-08T14:38:03.928477Z",
     "iopub.status.idle": "2022-04-08T14:38:04.143326Z",
     "shell.execute_reply": "2022-04-08T14:38:04.142813Z",
     "shell.execute_reply.started": "2022-04-08T14:37:08.490445Z"
    },
    "papermill": {
     "duration": 0.231289,
     "end_time": "2022-04-08T14:38:04.143477",
     "exception": false,
     "start_time": "2022-04-08T14:38:03.912188",
     "status": "completed"
    },
    "tags": []
   },
   "outputs": [
    {
     "data": {
      "text/html": [
       "<div>\n",
       "<style scoped>\n",
       "    .dataframe tbody tr th:only-of-type {\n",
       "        vertical-align: middle;\n",
       "    }\n",
       "\n",
       "    .dataframe tbody tr th {\n",
       "        vertical-align: top;\n",
       "    }\n",
       "\n",
       "    .dataframe thead th {\n",
       "        text-align: right;\n",
       "    }\n",
       "</style>\n",
       "<table border=\"1\" class=\"dataframe\">\n",
       "  <thead>\n",
       "    <tr style=\"text-align: right;\">\n",
       "      <th></th>\n",
       "      <th>make</th>\n",
       "      <th>address</th>\n",
       "      <th>all</th>\n",
       "      <th>3d</th>\n",
       "      <th>our</th>\n",
       "      <th>over</th>\n",
       "      <th>remove</th>\n",
       "      <th>internet</th>\n",
       "      <th>order</th>\n",
       "      <th>mail</th>\n",
       "      <th>...</th>\n",
       "      <th>conference</th>\n",
       "      <th>semicol</th>\n",
       "      <th>paren</th>\n",
       "      <th>bracket</th>\n",
       "      <th>bang</th>\n",
       "      <th>dollar</th>\n",
       "      <th>pound</th>\n",
       "      <th>cap_avg</th>\n",
       "      <th>cap_long</th>\n",
       "      <th>cap_total</th>\n",
       "    </tr>\n",
       "  </thead>\n",
       "  <tbody>\n",
       "    <tr>\n",
       "      <th>count</th>\n",
       "      <td>4601.000000</td>\n",
       "      <td>4601.000000</td>\n",
       "      <td>4601.000000</td>\n",
       "      <td>4601.000000</td>\n",
       "      <td>4601.000000</td>\n",
       "      <td>4601.000000</td>\n",
       "      <td>4601.000000</td>\n",
       "      <td>4601.000000</td>\n",
       "      <td>4601.000000</td>\n",
       "      <td>4601.000000</td>\n",
       "      <td>...</td>\n",
       "      <td>4601.000000</td>\n",
       "      <td>4601.000000</td>\n",
       "      <td>4601.000000</td>\n",
       "      <td>4601.000000</td>\n",
       "      <td>4601.000000</td>\n",
       "      <td>4601.000000</td>\n",
       "      <td>4601.000000</td>\n",
       "      <td>4601.000000</td>\n",
       "      <td>4601.000000</td>\n",
       "      <td>4601.000000</td>\n",
       "    </tr>\n",
       "    <tr>\n",
       "      <th>mean</th>\n",
       "      <td>0.104553</td>\n",
       "      <td>0.213015</td>\n",
       "      <td>0.280656</td>\n",
       "      <td>0.065425</td>\n",
       "      <td>0.312223</td>\n",
       "      <td>0.095901</td>\n",
       "      <td>0.114208</td>\n",
       "      <td>0.105295</td>\n",
       "      <td>0.090067</td>\n",
       "      <td>0.239413</td>\n",
       "      <td>...</td>\n",
       "      <td>0.031869</td>\n",
       "      <td>0.038575</td>\n",
       "      <td>0.139030</td>\n",
       "      <td>0.016976</td>\n",
       "      <td>0.269071</td>\n",
       "      <td>0.075811</td>\n",
       "      <td>0.044238</td>\n",
       "      <td>5.191515</td>\n",
       "      <td>52.172789</td>\n",
       "      <td>283.289285</td>\n",
       "    </tr>\n",
       "    <tr>\n",
       "      <th>std</th>\n",
       "      <td>0.305358</td>\n",
       "      <td>1.290575</td>\n",
       "      <td>0.504143</td>\n",
       "      <td>1.395151</td>\n",
       "      <td>0.672513</td>\n",
       "      <td>0.273824</td>\n",
       "      <td>0.391441</td>\n",
       "      <td>0.401071</td>\n",
       "      <td>0.278616</td>\n",
       "      <td>0.644755</td>\n",
       "      <td>...</td>\n",
       "      <td>0.285735</td>\n",
       "      <td>0.243471</td>\n",
       "      <td>0.270355</td>\n",
       "      <td>0.109394</td>\n",
       "      <td>0.815672</td>\n",
       "      <td>0.245882</td>\n",
       "      <td>0.429342</td>\n",
       "      <td>31.729449</td>\n",
       "      <td>194.891310</td>\n",
       "      <td>606.347851</td>\n",
       "    </tr>\n",
       "    <tr>\n",
       "      <th>min</th>\n",
       "      <td>0.000000</td>\n",
       "      <td>0.000000</td>\n",
       "      <td>0.000000</td>\n",
       "      <td>0.000000</td>\n",
       "      <td>0.000000</td>\n",
       "      <td>0.000000</td>\n",
       "      <td>0.000000</td>\n",
       "      <td>0.000000</td>\n",
       "      <td>0.000000</td>\n",
       "      <td>0.000000</td>\n",
       "      <td>...</td>\n",
       "      <td>0.000000</td>\n",
       "      <td>0.000000</td>\n",
       "      <td>0.000000</td>\n",
       "      <td>0.000000</td>\n",
       "      <td>0.000000</td>\n",
       "      <td>0.000000</td>\n",
       "      <td>0.000000</td>\n",
       "      <td>1.000000</td>\n",
       "      <td>1.000000</td>\n",
       "      <td>1.000000</td>\n",
       "    </tr>\n",
       "    <tr>\n",
       "      <th>25%</th>\n",
       "      <td>0.000000</td>\n",
       "      <td>0.000000</td>\n",
       "      <td>0.000000</td>\n",
       "      <td>0.000000</td>\n",
       "      <td>0.000000</td>\n",
       "      <td>0.000000</td>\n",
       "      <td>0.000000</td>\n",
       "      <td>0.000000</td>\n",
       "      <td>0.000000</td>\n",
       "      <td>0.000000</td>\n",
       "      <td>...</td>\n",
       "      <td>0.000000</td>\n",
       "      <td>0.000000</td>\n",
       "      <td>0.000000</td>\n",
       "      <td>0.000000</td>\n",
       "      <td>0.000000</td>\n",
       "      <td>0.000000</td>\n",
       "      <td>0.000000</td>\n",
       "      <td>1.588000</td>\n",
       "      <td>6.000000</td>\n",
       "      <td>35.000000</td>\n",
       "    </tr>\n",
       "    <tr>\n",
       "      <th>50%</th>\n",
       "      <td>0.000000</td>\n",
       "      <td>0.000000</td>\n",
       "      <td>0.000000</td>\n",
       "      <td>0.000000</td>\n",
       "      <td>0.000000</td>\n",
       "      <td>0.000000</td>\n",
       "      <td>0.000000</td>\n",
       "      <td>0.000000</td>\n",
       "      <td>0.000000</td>\n",
       "      <td>0.000000</td>\n",
       "      <td>...</td>\n",
       "      <td>0.000000</td>\n",
       "      <td>0.000000</td>\n",
       "      <td>0.065000</td>\n",
       "      <td>0.000000</td>\n",
       "      <td>0.000000</td>\n",
       "      <td>0.000000</td>\n",
       "      <td>0.000000</td>\n",
       "      <td>2.276000</td>\n",
       "      <td>15.000000</td>\n",
       "      <td>95.000000</td>\n",
       "    </tr>\n",
       "    <tr>\n",
       "      <th>75%</th>\n",
       "      <td>0.000000</td>\n",
       "      <td>0.000000</td>\n",
       "      <td>0.420000</td>\n",
       "      <td>0.000000</td>\n",
       "      <td>0.380000</td>\n",
       "      <td>0.000000</td>\n",
       "      <td>0.000000</td>\n",
       "      <td>0.000000</td>\n",
       "      <td>0.000000</td>\n",
       "      <td>0.160000</td>\n",
       "      <td>...</td>\n",
       "      <td>0.000000</td>\n",
       "      <td>0.000000</td>\n",
       "      <td>0.188000</td>\n",
       "      <td>0.000000</td>\n",
       "      <td>0.315000</td>\n",
       "      <td>0.052000</td>\n",
       "      <td>0.000000</td>\n",
       "      <td>3.706000</td>\n",
       "      <td>43.000000</td>\n",
       "      <td>266.000000</td>\n",
       "    </tr>\n",
       "    <tr>\n",
       "      <th>max</th>\n",
       "      <td>4.540000</td>\n",
       "      <td>14.280000</td>\n",
       "      <td>5.100000</td>\n",
       "      <td>42.810000</td>\n",
       "      <td>10.000000</td>\n",
       "      <td>5.880000</td>\n",
       "      <td>7.270000</td>\n",
       "      <td>11.110000</td>\n",
       "      <td>5.260000</td>\n",
       "      <td>18.180000</td>\n",
       "      <td>...</td>\n",
       "      <td>10.000000</td>\n",
       "      <td>4.385000</td>\n",
       "      <td>9.752000</td>\n",
       "      <td>4.081000</td>\n",
       "      <td>32.478000</td>\n",
       "      <td>6.003000</td>\n",
       "      <td>19.829000</td>\n",
       "      <td>1102.500000</td>\n",
       "      <td>9989.000000</td>\n",
       "      <td>15841.000000</td>\n",
       "    </tr>\n",
       "  </tbody>\n",
       "</table>\n",
       "<p>8 rows × 57 columns</p>\n",
       "</div>"
      ],
      "text/plain": [
       "              make      address          all           3d          our  \\\n",
       "count  4601.000000  4601.000000  4601.000000  4601.000000  4601.000000   \n",
       "mean      0.104553     0.213015     0.280656     0.065425     0.312223   \n",
       "std       0.305358     1.290575     0.504143     1.395151     0.672513   \n",
       "min       0.000000     0.000000     0.000000     0.000000     0.000000   \n",
       "25%       0.000000     0.000000     0.000000     0.000000     0.000000   \n",
       "50%       0.000000     0.000000     0.000000     0.000000     0.000000   \n",
       "75%       0.000000     0.000000     0.420000     0.000000     0.380000   \n",
       "max       4.540000    14.280000     5.100000    42.810000    10.000000   \n",
       "\n",
       "              over       remove     internet        order         mail  ...  \\\n",
       "count  4601.000000  4601.000000  4601.000000  4601.000000  4601.000000  ...   \n",
       "mean      0.095901     0.114208     0.105295     0.090067     0.239413  ...   \n",
       "std       0.273824     0.391441     0.401071     0.278616     0.644755  ...   \n",
       "min       0.000000     0.000000     0.000000     0.000000     0.000000  ...   \n",
       "25%       0.000000     0.000000     0.000000     0.000000     0.000000  ...   \n",
       "50%       0.000000     0.000000     0.000000     0.000000     0.000000  ...   \n",
       "75%       0.000000     0.000000     0.000000     0.000000     0.160000  ...   \n",
       "max       5.880000     7.270000    11.110000     5.260000    18.180000  ...   \n",
       "\n",
       "        conference      semicol        paren      bracket         bang  \\\n",
       "count  4601.000000  4601.000000  4601.000000  4601.000000  4601.000000   \n",
       "mean      0.031869     0.038575     0.139030     0.016976     0.269071   \n",
       "std       0.285735     0.243471     0.270355     0.109394     0.815672   \n",
       "min       0.000000     0.000000     0.000000     0.000000     0.000000   \n",
       "25%       0.000000     0.000000     0.000000     0.000000     0.000000   \n",
       "50%       0.000000     0.000000     0.065000     0.000000     0.000000   \n",
       "75%       0.000000     0.000000     0.188000     0.000000     0.315000   \n",
       "max      10.000000     4.385000     9.752000     4.081000    32.478000   \n",
       "\n",
       "            dollar        pound      cap_avg     cap_long     cap_total  \n",
       "count  4601.000000  4601.000000  4601.000000  4601.000000   4601.000000  \n",
       "mean      0.075811     0.044238     5.191515    52.172789    283.289285  \n",
       "std       0.245882     0.429342    31.729449   194.891310    606.347851  \n",
       "min       0.000000     0.000000     1.000000     1.000000      1.000000  \n",
       "25%       0.000000     0.000000     1.588000     6.000000     35.000000  \n",
       "50%       0.000000     0.000000     2.276000    15.000000     95.000000  \n",
       "75%       0.052000     0.000000     3.706000    43.000000    266.000000  \n",
       "max       6.003000    19.829000  1102.500000  9989.000000  15841.000000  \n",
       "\n",
       "[8 rows x 57 columns]"
      ]
     },
     "execution_count": 2,
     "metadata": {},
     "output_type": "execute_result"
    }
   ],
   "source": [
    "import pandas as pd\n",
    "import numpy as np\n",
    "data = pd.read_csv('../input/spammail/spam_email.txt',sep=' ')\n",
    "onlydata=data.loc[:,'make':'cap_total']\n",
    "onlydata.describe(include='all')"
   ]
  },
  {
   "cell_type": "code",
   "execution_count": 3,
   "id": "bb2ce8d0",
   "metadata": {
    "execution": {
     "iopub.execute_input": "2022-04-08T14:38:04.176773Z",
     "iopub.status.busy": "2022-04-08T14:38:04.176093Z",
     "iopub.status.idle": "2022-04-08T14:38:05.271649Z",
     "shell.execute_reply": "2022-04-08T14:38:05.270908Z",
     "shell.execute_reply.started": "2022-04-08T14:37:08.692918Z"
    },
    "papermill": {
     "duration": 1.115227,
     "end_time": "2022-04-08T14:38:05.271792",
     "exception": false,
     "start_time": "2022-04-08T14:38:04.156565",
     "status": "completed"
    },
    "tags": []
   },
   "outputs": [],
   "source": [
    "from sklearn.model_selection import train_test_split\n",
    "from sklearn import preprocessing\n",
    "X=onlydata.values\n",
    "yCG=data.values[:,57]\n",
    "y=np.zeros((yCG.size))\n",
    "y[yCG=='ham']=1\n",
    "X_train, X_test, y_train, y_test = train_test_split(X, y, test_size=0.3, random_state = 0)\n",
    "std_scaler = preprocessing.StandardScaler().fit(X_train)\n",
    "X_train_scaled = std_scaler.transform(X_train)\n",
    "X_test_scaled = std_scaler.transform(X_test)"
   ]
  },
  {
   "cell_type": "code",
   "execution_count": 4,
   "id": "8a4a2627",
   "metadata": {
    "execution": {
     "iopub.execute_input": "2022-04-08T14:38:05.313327Z",
     "iopub.status.busy": "2022-04-08T14:38:05.312058Z",
     "iopub.status.idle": "2022-04-08T14:38:06.145081Z",
     "shell.execute_reply": "2022-04-08T14:38:06.145577Z",
     "shell.execute_reply.started": "2022-04-08T14:37:09.821150Z"
    },
    "papermill": {
     "duration": 0.859066,
     "end_time": "2022-04-08T14:38:06.145753",
     "exception": false,
     "start_time": "2022-04-08T14:38:05.286687",
     "status": "completed"
    },
    "tags": []
   },
   "outputs": [
    {
     "data": {
      "text/plain": [
       "<matplotlib.legend.Legend at 0x7f612b2fc5d0>"
      ]
     },
     "execution_count": 4,
     "metadata": {},
     "output_type": "execute_result"
    },
    {
     "data": {
      "image/png": "[encoded data removed]",
      "text/plain": [
       "<Figure size 432x288 with 2 Axes>"
      ]
     },
     "metadata": {
      "needs_background": "light"
     },
     "output_type": "display_data"
    }
   ],
   "source": [
    "from sklearn.decomposition import PCA\n",
    "import matplotlib.pyplot as plt\n",
    "pca= PCA(n_components=2)\n",
    "fig, (plt_train, plt_test) = plt.subplots(1, 2)\n",
    "data1=pca.fit_transform(X_train_scaled)\n",
    "h1=data1[(y_train==1)]\n",
    "h2=data1[(y_train==0)]\n",
    "plt_train.set_title('Train values :'+ str(X_train_scaled.shape))\n",
    "plt_train.scatter(h1[:,0],h1[:,1],marker='*',c=\"red\")\n",
    "plt_train.scatter(h2[:,0],h2[:,1],marker='+',c=\"black\")\n",
    "plt_train.legend(['lable 1','lable 0'])\n",
    "data2=pca.fit_transform(X_test_scaled)\n",
    "g1=data2[(y_test==1)]\n",
    "g2=data2[(y_test==0)]\n",
    "plt_test.set_title('Test values :'+str(X_test_scaled.shape))\n",
    "plt_test.scatter(g1[:,0],g1[:,1],marker='+',c=\"black\")\n",
    "plt_test.scatter(g2[:,0],g2[:,1],marker='*',c=\"pink\")\n",
    "plt_test.legend(['lable 1','lable 0'])"
   ]
  },
  {
   "cell_type": "code",
   "execution_count": 5,
   "id": "f2b716e6",
   "metadata": {
    "execution": {
     "iopub.execute_input": "2022-04-08T14:38:06.183729Z",
     "iopub.status.busy": "2022-04-08T14:38:06.182737Z",
     "iopub.status.idle": "2022-04-08T14:38:06.636236Z",
     "shell.execute_reply": "2022-04-08T14:38:06.636730Z",
     "shell.execute_reply.started": "2022-04-08T14:37:10.487573Z"
    },
    "papermill": {
     "duration": 0.476674,
     "end_time": "2022-04-08T14:38:06.636897",
     "exception": false,
     "start_time": "2022-04-08T14:38:06.160223",
     "status": "completed"
    },
    "tags": []
   },
   "outputs": [
    {
     "data": {
      "text/plain": [
       "<matplotlib.legend.Legend at 0x7f6120e718d0>"
      ]
     },
     "execution_count": 5,
     "metadata": {},
     "output_type": "execute_result"
    },
    {
     "data": {
      "image/png": "[encoded data removed]",
      "text/plain": [
       "<Figure size 432x288 with 1 Axes>"
      ]
     },
     "metadata": {
      "needs_background": "light"
     },
     "output_type": "display_data"
    }
   ],
   "source": [
    "from sklearn.decomposition import PCA\n",
    "import matplotlib.pyplot as plt\n",
    "pca= PCA(n_components=2)\n",
    "\n",
    "X_scaled = std_scaler.transform(X)\n",
    "datax=pca.fit_transform(X_scaled)\n",
    "x1=datax[(y==1)]\n",
    "x2=datax[(y==0)]\n",
    "plt.title('Train values :'+ str(X.shape))\n",
    "plt.scatter(x1[:,0],x1[:,1],marker='*',c=\"orange\")\n",
    "plt.scatter(x2[:,0],x2[:,1],marker='+',c=\"black\")\n",
    "plt.legend(['lable 1','lable 0'])"
   ]
  },
  {
   "cell_type": "code",
   "execution_count": 6,
   "id": "73c84ec4",
   "metadata": {
    "execution": {
     "iopub.execute_input": "2022-04-08T14:38:06.672193Z",
     "iopub.status.busy": "2022-04-08T14:38:06.671477Z",
     "iopub.status.idle": "2022-04-08T14:38:06.693882Z",
     "shell.execute_reply": "2022-04-08T14:38:06.694384Z",
     "shell.execute_reply.started": "2022-04-08T14:37:10.908204Z"
    },
    "papermill": {
     "duration": 0.041784,
     "end_time": "2022-04-08T14:38:06.694567",
     "exception": false,
     "start_time": "2022-04-08T14:38:06.652783",
     "status": "completed"
    },
    "tags": []
   },
   "outputs": [],
   "source": [
    "class RatingModel:\n",
    "    def __init__(self, y_, y_Pr):\n",
    "      self.y_=y_\n",
    "      self.y_Pr=y_Pr\n",
    "      self.TN=np.size(y_Pr[(y_Pr==-1)&(y_==y_Pr)])\n",
    "      self.FN=np.size(y_Pr[(y_Pr==-1)&(y_!=y_Pr)])\n",
    "      self.TP=np.size(y_Pr[(y_Pr==1)&(y_==y_Pr)])\n",
    "      self.FP=np.size(y_Pr[(y_Pr==1)&(y_!=y_Pr)])\n",
    "      self.y_[self.y_==0]=-1\n",
    "      self.y_Pr[self.y_Pr==0]=-1\n",
    "      # assert self.y_.set={1, -1}\n",
    "      # assert self.y_Pr.set={1, -1}\n",
    "    def __rep__():\n",
    "        return \"\"\n",
    "    def accur_Error(self, y_, y_Pr):\n",
    "        rs=(self.TP+self.TN)/(y_.size)\n",
    "        return [rs,(1-rs)]\n",
    "    def sensitivity(self):\n",
    "        P=np.size(self.y_[self.y_==1])\n",
    "        return (self.TP)/(P)\n",
    "    def specificity(self):\n",
    "        N=np.size(self.y_[self.y_==-1])\n",
    "        return (self.TN)/(N)\n",
    "    def precision(self):\n",
    "        rs=self.TP+self.FP\n",
    "        return (self.TP)/(rs)\n",
    "    def recall(self):\n",
    "        rs=self.TP+self.FN\n",
    "        return (self.TP)/(rs)\n",
    "    def rating(self):\n",
    "        return [self.accur_Error(self.y_, self.y_Pr), self.sensitivity(), self.specificity(), self.precision(), self.recall()]\n",
    "class DecisionStump:\n",
    "    def __init__(self, T=100):\n",
    "        self.T = T\n",
    "        pass\n",
    "\n",
    "    def fit(self, X: np.ndarray, y: np.ndarray, sample_weight: np.ndarray):\n",
    "        T = self.T\n",
    "        W=sample_weight\n",
    "        nrow, ncol = X.shape\n",
    "        assert nrow == y.size\n",
    "\n",
    "        bestn = 0\n",
    "        bestd = 1\n",
    "        bestp = 0\n",
    "        minerr = W.sum()\n",
    "        for i in range(ncol):\n",
    "            err, d, p = self._optimize(X[:, i], y, W, T)\n",
    "            if err < minerr:\n",
    "                minerr = err\n",
    "                bestn = i\n",
    "                bestd = d\n",
    "                bestp = p\n",
    "        \n",
    "        self.features = ncol\n",
    "        self.bestn = bestn\n",
    "        self.bestd = bestd\n",
    "        self.bestp = bestp\n",
    "\n",
    "        return self\n",
    "\n",
    "    def _optimize(self, X, y, W, T):\n",
    "        X = X.flatten()\n",
    "        min_x, max_x = X.min(), X.max()\n",
    "        len_x = max_x - min_x\n",
    "        \n",
    "        bestd = 1\n",
    "        bestp = min_x\n",
    "        minerr = W.sum()\n",
    "\n",
    "        if len_x > 0.0:\n",
    "            for p in np.arange(min_x, max_x, len_x/T):\n",
    "                for d in [-1, 1]:\n",
    "                    gy = np.ones((y.size))\n",
    "                    gy[X*d < p*d] = -1\n",
    "                    err = np.sum((gy != y)*W)\n",
    "                    if err < minerr:\n",
    "                        minerr = err\n",
    "                        bestd = d\n",
    "                        bestp = p\n",
    "\n",
    "        return minerr, bestd, bestp\n",
    "\n",
    "    def predict(self, test_set : np.ndarray):\n",
    "        nrow, ncol = test_set.shape\n",
    "\n",
    "        assert ncol == self.features\n",
    "\n",
    "        icol = test_set[:, self.bestn]\n",
    "        h = np.ones((nrow))\n",
    "        h[icol*self.bestd < self.bestp*self.bestd] = -1\n",
    "        return h"
   ]
  },
  {
   "cell_type": "code",
   "execution_count": 7,
   "id": "e1b9d010",
   "metadata": {
    "execution": {
     "iopub.execute_input": "2022-04-08T14:38:06.744731Z",
     "iopub.status.busy": "2022-04-08T14:38:06.743951Z",
     "iopub.status.idle": "2022-04-08T14:38:06.746014Z",
     "shell.execute_reply": "2022-04-08T14:38:06.746461Z",
     "shell.execute_reply.started": "2022-04-08T14:37:10.928128Z"
    },
    "papermill": {
     "duration": 0.036073,
     "end_time": "2022-04-08T14:38:06.746634",
     "exception": false,
     "start_time": "2022-04-08T14:38:06.710561",
     "status": "completed"
    },
    "tags": []
   },
   "outputs": [],
   "source": [
    "class AdaBoost:\n",
    "    def __init__(self , T, hmodel = DecisionStump()):\n",
    "        self.T=T\n",
    "        self.hmodel=hmodel\n",
    "    def fit(self, X: np.ndarray, y_: np.ndarray, verbose=False):\n",
    "      n = X.shape[0]\n",
    "      T = self.T\n",
    "      y=y_\n",
    "      y[y==0]=-1\n",
    "    # init numpy arrays\n",
    "      self.D = np.zeros(shape=(T, n))\n",
    "      self.h = np.zeros(shape=T, dtype=object)\n",
    "      self.alpha = np.zeros(shape=T)\n",
    "      self.errors = np.zeros(shape=T)\n",
    "      self.ratting = np.zeros(shape=(T,2))\n",
    "\n",
    "      # initialize weights uniformly\n",
    "      self.D[0] = np.ones(shape=n) / n\n",
    "\n",
    "      for t in range(T):\n",
    "          # fit  weak learner\n",
    "          D_ = self.D[t]\n",
    "          h_ = DecisionStump(40)\n",
    "          h_ = h_.fit(X, y, D_)\n",
    "\n",
    "          # calculate error and stump weight from weak learner prediction\n",
    "          Pr_ = h_.predict(X)\n",
    "          error_ = D_[(Pr_ != y)].sum()# / n\n",
    "          alpha_ = np.log((1 - error_) / error_) / 2\n",
    "\n",
    "          # update sample weights\n",
    "          D_new = (\n",
    "              D_ * np.exp(-alpha_ * y * Pr_)\n",
    "          )\n",
    "          \n",
    "          D_new /= D_new.sum()\n",
    "\n",
    "          # If not final iteration, update sample weights for t+1\n",
    "          if t+1 < T:\n",
    "              self.D[t+1] = D_new\n",
    "\n",
    "          # save results of iteration\n",
    "          self.h[t] = h_\n",
    "          self.alpha[t] = alpha_\n",
    "          self.errors[t] = error_\n",
    "          # ae=np.array([0,0])\n",
    "          if t>0:\n",
    "            Pr_temp=self.predictmodul(X,t)\n",
    "            modelra=RatingModel(y, Pr_temp)\n",
    "            self.ratting[t,:]=modelra.accur_Error(y, Pr_temp)\n",
    "            if verbose: print('{0}-th weak: accuracy={1}, error={2}'.format (t, self.ratting[t,0], self.ratting[t,1]))\n",
    "      return self\n",
    "    def predict(self, X):\n",
    "        Pr_ = np.array([h_.predict(X) for h_ in self.h])\n",
    "        return np.sign(np.dot(self.alpha, Pr_))\n",
    "    def predictmodul(self, X, i):\n",
    "        h_temp=self.h[:i]\n",
    "        alpha_temp=self.alpha[:i]\n",
    "        Pr_ = np.array([h_.predict(X) for h_ in h_temp])\n",
    "        return np.sign(np.dot(alpha_temp, Pr_))"
   ]
  },
  {
   "cell_type": "code",
   "execution_count": 8,
   "id": "ac91269b",
   "metadata": {
    "execution": {
     "iopub.execute_input": "2022-04-08T14:38:06.785293Z",
     "iopub.status.busy": "2022-04-08T14:38:06.784590Z",
     "iopub.status.idle": "2022-04-08T14:38:15.466767Z",
     "shell.execute_reply": "2022-04-08T14:38:15.467686Z",
     "shell.execute_reply.started": "2022-04-08T14:37:10.948083Z"
    },
    "papermill": {
     "duration": 8.705282,
     "end_time": "2022-04-08T14:38:15.467991",
     "exception": false,
     "start_time": "2022-04-08T14:38:06.762709",
     "status": "completed"
    },
    "tags": []
   },
   "outputs": [
    {
     "name": "stdout",
     "output_type": "stream",
     "text": [
      "1-th weak: accuracy=0.7832298136645963, error=0.21677018633540368\n",
      "2-th weak: accuracy=0.7832298136645963, error=0.21677018633540368\n",
      "3-th weak: accuracy=0.8487577639751552, error=0.15124223602484477\n",
      "4-th weak: accuracy=0.8220496894409938, error=0.17795031055900623\n",
      "5-th weak: accuracy=0.868944099378882, error=0.13105590062111805\n",
      "6-th weak: accuracy=0.8779503105590062, error=0.12204968944099381\n",
      "7-th weak: accuracy=0.8804347826086957, error=0.11956521739130432\n",
      "8-th weak: accuracy=0.884472049689441, error=0.11552795031055896\n",
      "9-th weak: accuracy=0.8804347826086957, error=0.11956521739130432\n",
      "10-th weak: accuracy=0.8888198757763975, error=0.11118012422360246\n",
      "11-th weak: accuracy=0.8838509316770187, error=0.11614906832298133\n",
      "12-th weak: accuracy=0.8913043478260869, error=0.10869565217391308\n",
      "13-th weak: accuracy=0.8869565217391304, error=0.11304347826086958\n",
      "14-th weak: accuracy=0.8922360248447205, error=0.10776397515527947\n",
      "15-th weak: accuracy=0.889751552795031, error=0.11024844720496896\n",
      "16-th weak: accuracy=0.8959627329192547, error=0.10403726708074534\n",
      "17-th weak: accuracy=0.8922360248447205, error=0.10776397515527947\n",
      "18-th weak: accuracy=0.8968944099378882, error=0.10310559006211184\n",
      "19-th weak: accuracy=0.8940993788819875, error=0.10590062111801246\n",
      "20-th weak: accuracy=0.8962732919254658, error=0.10372670807453421\n",
      "21-th weak: accuracy=0.8947204968944099, error=0.10527950310559009\n",
      "22-th weak: accuracy=0.8993788819875776, error=0.10062111801242235\n",
      "23-th weak: accuracy=0.8944099378881988, error=0.10559006211180122\n",
      "24-th weak: accuracy=0.9006211180124224, error=0.0993788819875776\n",
      "25-th weak: accuracy=0.8968944099378882, error=0.10310559006211184\n",
      "26-th weak: accuracy=0.9024844720496894, error=0.0975155279503106\n",
      "27-th weak: accuracy=0.901863354037267, error=0.09813664596273297\n",
      "28-th weak: accuracy=0.901863354037267, error=0.09813664596273297\n",
      "29-th weak: accuracy=0.903416149068323, error=0.09658385093167698\n",
      "30-th weak: accuracy=0.9040372670807454, error=0.09596273291925461\n",
      "31-th weak: accuracy=0.9037267080745341, error=0.09627329192546585\n",
      "32-th weak: accuracy=0.9059006211180124, error=0.0940993788819876\n",
      "33-th weak: accuracy=0.9043478260869565, error=0.09565217391304348\n",
      "34-th weak: accuracy=0.9062111801242236, error=0.09378881987577636\n",
      "35-th weak: accuracy=0.9071428571428571, error=0.09285714285714286\n",
      "36-th weak: accuracy=0.9090062111801243, error=0.09099378881987574\n",
      "37-th weak: accuracy=0.906832298136646, error=0.09316770186335399\n",
      "38-th weak: accuracy=0.9077639751552795, error=0.09223602484472049\n",
      "39-th weak: accuracy=0.9062111801242236, error=0.09378881987577636\n",
      "[ 1.  1.  1. ... -1. -1.  1.] [1. 1. 1. ... 0. 0. 1.]\n"
     ]
    }
   ],
   "source": [
    "model=AdaBoost(40)\n",
    "model=model.fit(X_train_scaled, y_train,  True )\n",
    "Pr=model.predict( X_test_scaled)\n",
    "Pr[(Pr==0)]=-1\n",
    "print(Pr, y_test)"
   ]
  },
  {
   "cell_type": "code",
   "execution_count": 9,
   "id": "f4a1ec46",
   "metadata": {
    "execution": {
     "iopub.execute_input": "2022-04-08T14:38:15.598003Z",
     "iopub.status.busy": "2022-04-08T14:38:15.597289Z",
     "iopub.status.idle": "2022-04-08T14:38:15.985767Z",
     "shell.execute_reply": "2022-04-08T14:38:15.986293Z",
     "shell.execute_reply.started": "2022-04-08T14:37:18.644167Z"
    },
    "papermill": {
     "duration": 0.457265,
     "end_time": "2022-04-08T14:38:15.986472",
     "exception": false,
     "start_time": "2022-04-08T14:38:15.529207",
     "status": "completed"
    },
    "tags": []
   },
   "outputs": [
    {
     "data": {
      "text/plain": [
       "Text(0, 0.5, 'Loss/Accuracy')"
      ]
     },
     "execution_count": 9,
     "metadata": {},
     "output_type": "execute_result"
    },
    {
     "data": {
      "image/png": "[encoded data removed]",
      "text/plain": [
       "<Figure size 432x288 with 1 Axes>"
      ]
     },
     "metadata": {
      "needs_background": "light"
     },
     "output_type": "display_data"
    }
   ],
   "source": [
    "ra_Xtest = np.zeros(shape=(model.T,2))\n",
    "for i in range(1,model.T):\n",
    "  Pr_i=model.predictmodul(X_test_scaled,i)\n",
    "  modelra=RatingModel(y_test, Pr_i)\n",
    "  ra_Xtest[i,:]=modelra.accur_Error(y_test, Pr_i)\n",
    "ra_Xtrain = np.zeros(shape=(model.T,2))\n",
    "for i in range(1,model.T):\n",
    "  Pr_i=model.predictmodul(X_train_scaled,i)\n",
    "  modelra=RatingModel(y_train, Pr_i)\n",
    "  ra_Xtrain[i,:]=modelra.accur_Error(y_train, Pr_i)\n",
    "iter=range(model.T)\n",
    "plt.plot(iter,ra_Xtest[:,0],'y-', label='Test accuracy')\n",
    "plt.plot(iter,ra_Xtest[:,1],'r-', label='Test error')\n",
    "plt.plot(iter,ra_Xtrain[:,0],'y--', label='Train accuracy')\n",
    "plt.plot(iter,ra_Xtrain[:,1],'r--', label='Train error')\n",
    "plt.legend(loc='center right')\n",
    "plt.xlabel('Iter')\n",
    "plt.ylabel('Loss/Accuracy')"
   ]
  },
  {
   "cell_type": "code",
   "execution_count": 10,
   "id": "923eaa20",
   "metadata": {
    "execution": {
     "iopub.execute_input": "2022-04-08T14:38:16.067823Z",
     "iopub.status.busy": "2022-04-08T14:38:16.067069Z",
     "iopub.status.idle": "2022-04-08T14:38:16.338108Z",
     "shell.execute_reply": "2022-04-08T14:38:16.337467Z",
     "shell.execute_reply.started": "2022-04-08T14:37:19.030659Z"
    },
    "papermill": {
     "duration": 0.317766,
     "end_time": "2022-04-08T14:38:16.338268",
     "exception": false,
     "start_time": "2022-04-08T14:38:16.020502",
     "status": "completed"
    },
    "tags": []
   },
   "outputs": [
    {
     "name": "stdout",
     "output_type": "stream",
     "text": [
      "128 (1381,)\n"
     ]
    },
    {
     "data": {
      "text/plain": [
       "<matplotlib.legend.Legend at 0x7f6120e711d0>"
      ]
     },
     "execution_count": 10,
     "metadata": {},
     "output_type": "execute_result"
    },
    {
     "data": {
      "image/png": "[encoded data removed]",
      "text/plain": [
       "<Figure size 432x288 with 1 Axes>"
      ]
     },
     "metadata": {
      "needs_background": "light"
     },
     "output_type": "display_data"
    }
   ],
   "source": [
    "sumerror=0;\n",
    "y_new=y_test\n",
    "y_new[y_new==0]=-1\n",
    "for i in range(y_new.shape[0]):\n",
    "  if y_new[i]!=Pr[i]: \n",
    "    sumerror+=1\n",
    "print(sumerror, y_new.shape)\n",
    "gT1=data2[(Pr==1)]\n",
    "gT0=data2[(Pr==-1)]\n",
    "gF1=data2[(y_new!=Pr)&(Pr==1)]\n",
    "gF0=data2[(y_new!=Pr)&(Pr==-1)]\n",
    "plt.title('Test values errors :'+str(sumerror)+'/ '+str(X_test_scaled.shape[0]))\n",
    "# plt.scatter(gF[:,0],gF[:,1], c=\"red\")\n",
    "plt.scatter(gT1[:,0],gT1[:,1], marker='*', c=\"blue\")\n",
    "plt.scatter(gT0[:,0],gT0[:,1], marker='x', c=\"black\")\n",
    "plt.scatter(gF1[:,0],gF1[:,1], marker='s', c=\"green\")\n",
    "plt.scatter(gF0[:,0],gF0[:,1], marker='+', c=\"red\")\n",
    "plt.legend(['TP C','TN G','FP C','FN G'])"
   ]
  }
 ],
 "metadata": {
  "kernelspec": {
   "display_name": "Python 3",
   "language": "python",
   "name": "python3"
  },
  "language_info": {
   "codemirror_mode": {
    "name": "ipython",
    "version": 3
   },
   "file_extension": ".py",
   "mimetype": "text/x-python",
   "name": "python",
   "nbconvert_exporter": "python",
   "pygments_lexer": "ipython3",
   "version": "3.7.12"
  },
  "papermill": {
   "default_parameters": {},
   "duration": 22.741348,
   "end_time": "2022-04-08T14:38:17.086084",
   "environment_variables": {},
   "exception": null,
   "input_path": "__notebook__.ipynb",
   "output_path": "__notebook__.ipynb",
   "parameters": {},
   "start_time": "2022-04-08T14:37:54.344736",
   "version": "2.3.3"
  }
 },
 "nbformat": 4,
 "nbformat_minor": 5
}
